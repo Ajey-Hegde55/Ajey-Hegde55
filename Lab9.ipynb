{
  "nbformat": 4,
  "nbformat_minor": 0,
  "metadata": {
    "colab": {
      "provenance": [],
      "authorship_tag": "ABX9TyMxveFPPaVPuAFIpsy5GhpJ",
      "include_colab_link": true
    },
    "kernelspec": {
      "name": "python3",
      "display_name": "Python 3"
    },
    "language_info": {
      "name": "python"
    }
  },
  "cells": [
    {
      "cell_type": "markdown",
      "metadata": {
        "id": "view-in-github",
        "colab_type": "text"
      },
      "source": [
        "<a href=\"https://colab.research.google.com/github/Ajey-Hegde55/Ajey-Hegde55/blob/main/Lab9.ipynb\" target=\"_parent\"><img src=\"https://colab.research.google.com/assets/colab-badge.svg\" alt=\"Open In Colab\"/></a>"
      ]
    },
    {
      "cell_type": "markdown",
      "source": [
        "# Newton's Interpolation Formulae"
      ],
      "metadata": {
        "id": "8Kq-gzdXzGxW"
      }
    },
    {
      "cell_type": "markdown",
      "source": [
        "## 1) Find $y(0.15)$ from the following data:\n",
        "\n",
        "$x$ $\\,$: $\\,$ 0.1 $\\,$ 0.2 $\\,$ 0.3 \\\\\n",
        "$y$ $\\,$: $\\,$ 1 $\\,$ 2 $\\,$ 3 \\\\\n",
        "$i.e.$ \\\\\n",
        "$x = [0.1,0.2,0.3] $ \\\\\n",
        "$y = [1,2,3]$\n"
      ],
      "metadata": {
        "id": "nMn7Fb1a0GQJ"
      }
    },
    {
      "cell_type": "code",
      "source": [
        "from numpy import*\n",
        "x=[0.1,0.2,0.3]\n",
        "y=[1,2,3]\n",
        "n=len(x)-1\n",
        "h=x[1]-x[0]\n",
        "xr=float(input(\"Enter the value of xr: \"))\n",
        "r=(xr-x[0])/float(h)\n",
        "Y=y[0]\n",
        "tem=r\n",
        "k=1\n",
        "print(\"y0 = \",y[0])\n",
        "print(\"The forward difference value\")\n",
        "for i in range(0,n):\n",
        "  y=diff(y)\n",
        "  print(y)\n",
        "  Y=Y+tem*y[0]\n",
        "  tem=tem*(r-k)/(k+1)\n",
        "  k=k+1\n",
        "  print(y[0])\n",
        "print(\"Interpolated value at %f is %f\" %(xr,Y))\n"
      ],
      "metadata": {
        "colab": {
          "base_uri": "https://localhost:8080/"
        },
        "id": "q8OpTHEu1k1r",
        "outputId": "00c4c46b-5999-4073-f8c8-aedc39a55a51"
      },
      "execution_count": null,
      "outputs": [
        {
          "output_type": "stream",
          "name": "stdout",
          "text": [
            "Enter the value of xr: 0.15\n",
            "y0 =  1\n",
            "The forward difference value\n",
            "[1 1]\n",
            "1\n",
            "[0]\n",
            "0\n",
            "Interpolated value at 0.150000 is 1.500000\n"
          ]
        }
      ]
    },
    {
      "cell_type": "markdown",
      "source": [
        "# 2) Determine the value of $y$ , given $x=51$ from the following data:\n",
        "\\begin{array}{cccccc}x& 50&60&70&80&90\\\\ y&19.96&36.65&58.81&72.21&94.61\\end{array}"
      ],
      "metadata": {
        "id": "cpIxf5g_6TeF"
      }
    },
    {
      "cell_type": "code",
      "source": [
        "from numpy import*\n",
        "x=[50,60,70,80,90]\n",
        "y=[19.96,36.65,58.81,72.21,94.61]\n",
        "n=len(x)-1\n",
        "h=x[1]-x[0]\n",
        "xr=float(input(\"Enter the value of xr: \"))\n",
        "r=(xr-x[0])/float(h)\n",
        "Y=y[0]\n",
        "tem=r\n",
        "k=1\n",
        "print(\"y0 = \",y[0])\n",
        "print(\"The forward difference value\")\n",
        "for i in range(0,n):\n",
        "  y=diff(y)\n",
        "  print(y)\n",
        "  Y=Y+tem*y[0]\n",
        "  tem=tem*(r-k)/(k+1)\n",
        "  k=k+1\n",
        "  print(y[0])\n",
        "print(\"Interpolated value at %f is %f\" %(xr,Y))\n"
      ],
      "metadata": {
        "colab": {
          "base_uri": "https://localhost:8080/"
        },
        "id": "tu-1mJ027Wz3",
        "outputId": "2388fa13-d2d3-4ffe-c9c9-de4a69b00bba"
      },
      "execution_count": null,
      "outputs": [
        {
          "output_type": "stream",
          "name": "stdout",
          "text": [
            "Enter the value of xr: 51\n",
            "y0 =  19.96\n",
            "The forward difference value\n",
            "[16.69 22.16 13.4  22.4 ]\n",
            "16.689999999999998\n",
            "[ 5.47 -8.76  9.  ]\n",
            "5.470000000000006\n",
            "[-14.23  17.76]\n",
            "-14.230000000000018\n",
            "[31.99]\n",
            "31.990000000000045\n",
            "Interpolated value at 51.000000 is 20.316302\n"
          ]
        }
      ]
    },
    {
      "cell_type": "markdown",
      "source": [
        "## 3) Given $f(40)=184$, $f(50)=204$, $f(60)=226$, $f(70)=250$, $f(80)=276$ and $f(90)=304$, find $f(85)$ using suitable interpolation formula."
      ],
      "metadata": {
        "id": "3BFni5z_8oNo"
      }
    },
    {
      "cell_type": "code",
      "source": [
        "from numpy import*\n",
        "x=[40,50,60,70,80,90]\n",
        "y=[184,204,226,250,276,304]\n",
        "n=len(x)-1\n",
        "h=x[1]-x[0]\n",
        "xq=float(input(\"Enter the value of xq: \"))\n",
        "q=(xq-x[n])/float(h)\n",
        "Y=y[n]\n",
        "tem=q\n",
        "k=1\n",
        "print(\"yn = \",y[n])\n",
        "print(\"The backward difference value\")\n",
        "for i in range(0,n):\n",
        "  y=diff(y)\n",
        "  print(y)\n",
        "  Y=Y+tem*y[-1]\n",
        "  tem=tem*(q+k)/(k+1)\n",
        "  k=k+1\n",
        "  print(y[-1])\n",
        "print(\"Interpolated value at %f is %f\" %(xq,Y))\n"
      ],
      "metadata": {
        "colab": {
          "base_uri": "https://localhost:8080/"
        },
        "id": "_mpFI7ga9Ipq",
        "outputId": "44e393fa-111c-40bf-9952-c39a20e4279e"
      },
      "execution_count": null,
      "outputs": [
        {
          "output_type": "stream",
          "name": "stdout",
          "text": [
            "Enter the value of xq: 85\n",
            "yn =  304\n",
            "The backward difference value\n",
            "[20 22 24 26 28]\n",
            "28\n",
            "[2 2 2 2]\n",
            "2\n",
            "[0 0 0]\n",
            "0\n",
            "[0 0]\n",
            "0\n",
            "[0]\n",
            "0\n",
            "Interpolated value at 85.000000 is 289.750000\n"
          ]
        }
      ]
    },
    {
      "cell_type": "markdown",
      "source": [
        "## 4) The area of a a circle (A) corresponding to diameter (D) is given below:\n",
        "## D = [80,85,90,95,100]\n",
        "## A = [5026,5674,6362,7088,7854]\n",
        "## Find the area corresponding to the diameter 105 using an appropriate interpolation formula."
      ],
      "metadata": {
        "id": "kquCnvtG_jDA"
      }
    },
    {
      "cell_type": "code",
      "source": [
        "from numpy import*\n",
        "x = [80,85,90,95,100]\n",
        "y = [5026,5674,6362,7088,7854]\n",
        "n=len(x)-1\n",
        "h=x[1]-x[0]\n",
        "xq=float(input(\"Enter the value of xq: \"))\n",
        "q=(xq-x[n])/float(h)\n",
        "Y=y[n]\n",
        "tem=q\n",
        "k=1\n",
        "print(\"yn = \",y[n])\n",
        "print(\"The backward difference value\")\n",
        "for i in range(0,n):\n",
        "  y=diff(y)\n",
        "  print(y)\n",
        "  Y=Y+tem*y[-1]\n",
        "  tem=tem*(q+k)/(k+1)\n",
        "  k=k+1\n",
        "  print(y[-1])\n",
        "print(\"Interpolated value at %f is %f\" %(xq,Y))\n",
        "print(\"Therefore, the area corresponding to the diameter 105 is: \",Y)"
      ],
      "metadata": {
        "colab": {
          "base_uri": "https://localhost:8080/"
        },
        "id": "guWwzqwXAiSL",
        "outputId": "23ff5613-8aa3-42eb-bc13-d2e2aed7c456"
      },
      "execution_count": null,
      "outputs": [
        {
          "output_type": "stream",
          "name": "stdout",
          "text": [
            "Enter the value of xq: 105\n",
            "yn =  7854\n",
            "The backward difference value\n",
            "[648 688 726 766]\n",
            "766\n",
            "[40 38 40]\n",
            "40\n",
            "[-2  2]\n",
            "2\n",
            "[4]\n",
            "4\n",
            "Interpolated value at 105.000000 is 8666.000000\n",
            "Therefore, the area corresponding to the diameter 105 is:  8666.0\n"
          ]
        }
      ]
    },
    {
      "cell_type": "markdown",
      "source": [
        "## Numerical integration"
      ],
      "metadata": {
        "id": "O4IGabHGE6N7"
      }
    },
    {
      "cell_type": "markdown",
      "source": [
        "## 1) Using Simpson's $1/3^{rd}$ rule, evaluate $\\int_0^\\pi\\sin{x}dx$.\n",
        "\n",
        "\n",
        "\n"
      ],
      "metadata": {
        "id": "qAQhsGC3D2VK"
      }
    },
    {
      "cell_type": "code",
      "source": [
        "from numpy import*\n",
        "a=float(input(\"Enter the lower limit: \"))\n",
        "b=float(input(\"Enter the upper limit: \"))\n",
        "n=(int(input(\"Enter an even number for the number of subintervals: \")))\n",
        "h=(b-a)/n\n",
        "x=linspace(a,b,n+1)\n",
        "f=sin(x)\n",
        "Sum=0\n",
        "for i in range(1,n+1):\n",
        "  if i%2==0:\n",
        "    Sum=Sum+2*f[i]\n",
        "  else:\n",
        "    Sum=Sum+4*f[i]\n",
        "I=(h/3)*(f[0]+Sum+f[n])\n",
        "print(\"The value of the integral is %0.5f \"%I)"
      ],
      "metadata": {
        "colab": {
          "base_uri": "https://localhost:8080/"
        },
        "id": "7Kl44rUEECpJ",
        "outputId": "7d20ec35-d2b3-4589-d7d1-d37d226bd4ec"
      },
      "execution_count": null,
      "outputs": [
        {
          "output_type": "stream",
          "name": "stdout",
          "text": [
            "Enter the lower limit: 0\n",
            "Enter the upper limit: 3.14159\n",
            "Enter an even number for the number of subintervals: 26\n",
            "The value of the integral is 2.00000 \n"
          ]
        }
      ]
    },
    {
      "cell_type": "markdown",
      "source": [
        "## 2) Using Simpson's $3/8^{th}$ rule, evaluate $\\int_0^\\pi\\sin{x}dx$."
      ],
      "metadata": {
        "id": "yw7ZCmWjHFei"
      }
    },
    {
      "cell_type": "code",
      "source": [
        "from numpy import*\n",
        "a=float(input(\"Enter the lower limit: \"))\n",
        "b=float(input(\"Enter the upper limit: \"))\n",
        "n=(int(input(\"Enter the number of subintervals(multiple of 3): \")))\n",
        "h=(b-a)/n\n",
        "x=linspace(a,b,n+1)\n",
        "f=sin(x)\n",
        "Sum=0\n",
        "for i in range(1,n+1):\n",
        "  if i%3==0:\n",
        "    Sum=Sum+2*f[i]\n",
        "  else:\n",
        "    Sum=Sum+3*f[i]\n",
        "I=(3*h/8)*(f[0]+Sum+f[n])\n",
        "print(\"The value of the integral is %0.5f \"%I)"
      ],
      "metadata": {
        "colab": {
          "base_uri": "https://localhost:8080/"
        },
        "id": "2UxQgDBxHNZV",
        "outputId": "5037f861-0753-4ea7-a693-ff30818b631c"
      },
      "execution_count": null,
      "outputs": [
        {
          "output_type": "stream",
          "name": "stdout",
          "text": [
            "Enter the lower limit: 0\n",
            "Enter the upper limit: 3.14159\n",
            "Enter the number of subintervals(multiple of 3): 21\n",
            "The value of the integral is 2.00001 \n"
          ]
        }
      ]
    },
    {
      "cell_type": "markdown",
      "source": [
        "## 3) Using Simpson's $1/3^{rd}$ rule, evaluate $\\int_0^{0.6}e^{-x^2}dx$."
      ],
      "metadata": {
        "id": "UK1v8B0YInWS"
      }
    },
    {
      "cell_type": "code",
      "source": [
        "from numpy import*\n",
        "a=float(input(\"Enter the lower limit: \"))\n",
        "b=float(input(\"Enter the upper limit: \"))\n",
        "n=(int(input(\"Enter an even number for the number of subintervals: \")))\n",
        "h=(b-a)/n\n",
        "x=linspace(a,b,n+1)\n",
        "f=exp(-x**2)\n",
        "Sum=0\n",
        "for i in range(1,n+1):\n",
        "  if i%2==0:\n",
        "    Sum=Sum+2*f[i]\n",
        "  else:\n",
        "    Sum=Sum+4*f[i]\n",
        "I=(h/3)*(f[0]+Sum+f[n])\n",
        "print(\"The value of the integral is %0.5f \"%I)"
      ],
      "metadata": {
        "colab": {
          "base_uri": "https://localhost:8080/"
        },
        "id": "MLXIMaFTI4CZ",
        "outputId": "4edab1fe-5b33-47e0-c411-e65b13b8c4cd"
      },
      "execution_count": null,
      "outputs": [
        {
          "output_type": "stream",
          "name": "stdout",
          "text": [
            "Enter the lower limit: 0\n",
            "Enter the upper limit: .6\n",
            "Enter an even number for the number of subintervals: 10\n",
            "The value of the integral is 0.56306 \n"
          ]
        }
      ]
    },
    {
      "cell_type": "markdown",
      "source": [
        "## 4) Using Simpson's $3/8^{th}$ rule, evaluate $\\int_4^{5.2}log(x)dx$."
      ],
      "metadata": {
        "id": "MS8FTzo5J0kr"
      }
    },
    {
      "cell_type": "code",
      "source": [
        "from numpy import*\n",
        "a=float(input(\"Enter the lower limit: \"))\n",
        "b=float(input(\"Enter the upper limit: \"))\n",
        "n=(int(input(\"Enter the number of subintervals(multiple of 3): \")))\n",
        "h=(b-a)/n\n",
        "x=linspace(a,b,n+1)\n",
        "f=log(x)\n",
        "Sum=0\n",
        "for i in range(1,n+1):\n",
        "  if i%3==0:\n",
        "    Sum=Sum+2*f[i]\n",
        "  else:\n",
        "    Sum=Sum+3*f[i]\n",
        "I=(3*h/8)*(f[0]+Sum+f[n])\n",
        "print(\"The value of the integral is %0.5f \"%I)"
      ],
      "metadata": {
        "colab": {
          "base_uri": "https://localhost:8080/"
        },
        "id": "M7QwP8oHKJ4k",
        "outputId": "ddcaa688-8f72-4ad3-c09d-8e6f36cf73fd"
      },
      "execution_count": null,
      "outputs": [
        {
          "output_type": "stream",
          "name": "stdout",
          "text": [
            "Enter the lower limit: 4\n",
            "Enter the upper limit: 5.2\n",
            "Enter the number of subintervals(multiple of 3): 12\n",
            "The value of the integral is 1.95150 \n"
          ]
        }
      ]
    }
  ]
}