{
  "nbformat": 4,
  "nbformat_minor": 0,
  "metadata": {
    "colab": {
      "provenance": [],
      "include_colab_link": true
    },
    "kernelspec": {
      "name": "python3",
      "display_name": "Python 3"
    },
    "language_info": {
      "name": "python"
    }
  },
  "cells": [
    {
      "cell_type": "markdown",
      "metadata": {
        "id": "view-in-github",
        "colab_type": "text"
      },
      "source": [
        "<a href=\"https://colab.research.google.com/github/Ajey-Hegde55/Ajey-Hegde55/blob/main/4th_lab7.ipynb\" target=\"_parent\"><img src=\"https://colab.research.google.com/assets/colab-badge.svg\" alt=\"Open In Colab\"/></a>"
      ]
    },
    {
      "cell_type": "markdown",
      "source": [
        "##Row space , Column space and Null space"
      ],
      "metadata": {
        "id": "ZbGv-pEwturq"
      }
    },
    {
      "cell_type": "markdown",
      "source": [
        " Find the basis of row space , column space and null space of the following matrix"
      ],
      "metadata": {
        "id": "FQ7ylmaavZhK"
      }
    },
    {
      "cell_type": "markdown",
      "source": [
        "$$\n",
        "1) A=\\left[\\begin{array}{rrrr}\n",
        "1 & 2 & 3 & 1 \\\\\n",
        "4 & 8 & 12 & 4 \\\\\n",
        "3 & 6 & 9 & 3\n",
        "\\end{array}\\right]\n",
        "$$"
      ],
      "metadata": {
        "id": "wWWoNyeBwRBs"
      }
    },
    {
      "cell_type": "code",
      "source": [
        "from sympy import *\n",
        "A=Matrix([[1,2,3,1],[4,8,12,4],[3,6,9,3]])\n",
        "display(\"given matrix\",A)\n",
        "#[m,n]=shape(A)\n",
        "#c=A.T\n",
        "[B,pivots]=A.rref()\n",
        "display(\"Row reduced echelon from \",B , pivots)\n",
        "r=A.rank()\n",
        "display(\"Basis of row space are row of \" , B[0:r, :])\n",
        "print(\" dimension of  row space=\",r)\n",
        "display(\"Basis of column space are independent column of A i.e \" , A[:, pivots])\n",
        "print(\" dimension of column space=\",r)\n",
        "Nullspace=A.nullspace()\n",
        "#N=len(Nullspace)\n",
        "print(\"Basis of ther nullspace contains:\")\n",
        "pprint(Nullspace)\n"
      ],
      "metadata": {
        "colab": {
          "base_uri": "https://localhost:8080/",
          "height": 498
        },
        "id": "NU0sH6CPtvnx",
        "outputId": "41f499f2-68e3-4156-9a2f-1c5623480a46"
      },
      "execution_count": null,
      "outputs": [
        {
          "output_type": "display_data",
          "data": {
            "text/plain": [
              "'given matrix'"
            ],
            "application/vnd.google.colaboratory.intrinsic+json": {
              "type": "string"
            }
          },
          "metadata": {}
        },
        {
          "output_type": "display_data",
          "data": {
            "text/plain": [
              "Matrix([\n",
              "[1, 2,  3, 1],\n",
              "[4, 8, 12, 4],\n",
              "[3, 6,  9, 3]])"
            ],
            "text/latex": "$\\displaystyle \\left[\\begin{matrix}1 & 2 & 3 & 1\\\\4 & 8 & 12 & 4\\\\3 & 6 & 9 & 3\\end{matrix}\\right]$"
          },
          "metadata": {}
        },
        {
          "output_type": "display_data",
          "data": {
            "text/plain": [
              "'Row reduced echelon from '"
            ],
            "application/vnd.google.colaboratory.intrinsic+json": {
              "type": "string"
            }
          },
          "metadata": {}
        },
        {
          "output_type": "display_data",
          "data": {
            "text/plain": [
              "Matrix([\n",
              "[1, 2, 3, 1],\n",
              "[0, 0, 0, 0],\n",
              "[0, 0, 0, 0]])"
            ],
            "text/latex": "$\\displaystyle \\left[\\begin{matrix}1 & 2 & 3 & 1\\\\0 & 0 & 0 & 0\\\\0 & 0 & 0 & 0\\end{matrix}\\right]$"
          },
          "metadata": {}
        },
        {
          "output_type": "display_data",
          "data": {
            "text/plain": [
              "(0,)"
            ]
          },
          "metadata": {}
        },
        {
          "output_type": "display_data",
          "data": {
            "text/plain": [
              "'Basis of row space are row of '"
            ],
            "application/vnd.google.colaboratory.intrinsic+json": {
              "type": "string"
            }
          },
          "metadata": {}
        },
        {
          "output_type": "display_data",
          "data": {
            "text/plain": [
              "Matrix([[1, 2, 3, 1]])"
            ],
            "text/latex": "$\\displaystyle \\left[\\begin{matrix}1 & 2 & 3 & 1\\end{matrix}\\right]$"
          },
          "metadata": {}
        },
        {
          "output_type": "stream",
          "name": "stdout",
          "text": [
            " dimension of  row space= 1\n"
          ]
        },
        {
          "output_type": "display_data",
          "data": {
            "text/plain": [
              "'Basis of column space are independent column of A i.e '"
            ],
            "application/vnd.google.colaboratory.intrinsic+json": {
              "type": "string"
            }
          },
          "metadata": {}
        },
        {
          "output_type": "display_data",
          "data": {
            "text/plain": [
              "Matrix([\n",
              "[1],\n",
              "[4],\n",
              "[3]])"
            ],
            "text/latex": "$\\displaystyle \\left[\\begin{matrix}1\\\\4\\\\3\\end{matrix}\\right]$"
          },
          "metadata": {}
        },
        {
          "output_type": "stream",
          "name": "stdout",
          "text": [
            " dimension of column space= 1\n",
            "Basis of ther nullspace contains:\n",
            "⎡⎡-2⎤  ⎡-3⎤  ⎡-1⎤⎤\n",
            "⎢⎢  ⎥  ⎢  ⎥  ⎢  ⎥⎥\n",
            "⎢⎢1 ⎥  ⎢0 ⎥  ⎢0 ⎥⎥\n",
            "⎢⎢  ⎥, ⎢  ⎥, ⎢  ⎥⎥\n",
            "⎢⎢0 ⎥  ⎢1 ⎥  ⎢0 ⎥⎥\n",
            "⎢⎢  ⎥  ⎢  ⎥  ⎢  ⎥⎥\n",
            "⎣⎣0 ⎦  ⎣0 ⎦  ⎣1 ⎦⎦\n"
          ]
        }
      ]
    },
    {
      "cell_type": "markdown",
      "source": [
        "$$\n",
        "2) A=\\left[\\begin{array}{rrrr}\n",
        "1 & 2 & -3 & 1 \\\\\n",
        "2 & 2 & 1 & 3\n",
        "\\end{array}\\right]\n",
        "$$"
      ],
      "metadata": {
        "id": "Kuan1S9Otv5J"
      }
    },
    {
      "cell_type": "code",
      "source": [
        "from sympy import *\n",
        "A=Matrix([[1,2,-3,1],[2,2,1,3]])\n",
        "display(\"given matrix\",A)\n",
        "#[m,n]=shape(A)\n",
        "#c=A.T\n",
        "[B,pivots]=A.rref()\n",
        "display(\"Row reduced echelon from \",B , pivots)\n",
        "r=A.rank()\n",
        "display(\"Basis of row space are row of \" , B[0:r, :])\n",
        "print(\" dimension of  row space=\",r)\n",
        "display(\"Basis of column space are independent column of A i.e \" , A[:, pivots])\n",
        "print(\" dimension of column space=\",r)\n",
        "Nullspace=A.nullspace()\n",
        "#N=len(Nullspace)\n",
        "print(\"Basis of ther nullspace contains:\")\n",
        "pprint(Nullspace)\n"
      ],
      "metadata": {
        "colab": {
          "base_uri": "https://localhost:8080/",
          "height": 455
        },
        "id": "ckPMUCxqtwEJ",
        "outputId": "d8e44808-8b29-4dfb-fa7d-2f6714b40c14"
      },
      "execution_count": null,
      "outputs": [
        {
          "output_type": "display_data",
          "data": {
            "text/plain": [
              "'given matrix'"
            ],
            "application/vnd.google.colaboratory.intrinsic+json": {
              "type": "string"
            }
          },
          "metadata": {}
        },
        {
          "output_type": "display_data",
          "data": {
            "text/plain": [
              "Matrix([\n",
              "[1, 2, -3, 1],\n",
              "[2, 2,  1, 3]])"
            ],
            "text/latex": "$\\displaystyle \\left[\\begin{matrix}1 & 2 & -3 & 1\\\\2 & 2 & 1 & 3\\end{matrix}\\right]$"
          },
          "metadata": {}
        },
        {
          "output_type": "display_data",
          "data": {
            "text/plain": [
              "'Row reduced echelon from '"
            ],
            "application/vnd.google.colaboratory.intrinsic+json": {
              "type": "string"
            }
          },
          "metadata": {}
        },
        {
          "output_type": "display_data",
          "data": {
            "text/plain": [
              "Matrix([\n",
              "[1, 0,    4,    2],\n",
              "[0, 1, -7/2, -1/2]])"
            ],
            "text/latex": "$\\displaystyle \\left[\\begin{matrix}1 & 0 & 4 & 2\\\\0 & 1 & - \\frac{7}{2} & - \\frac{1}{2}\\end{matrix}\\right]$"
          },
          "metadata": {}
        },
        {
          "output_type": "display_data",
          "data": {
            "text/plain": [
              "(0, 1)"
            ]
          },
          "metadata": {}
        },
        {
          "output_type": "display_data",
          "data": {
            "text/plain": [
              "'Basis of row space are row of '"
            ],
            "application/vnd.google.colaboratory.intrinsic+json": {
              "type": "string"
            }
          },
          "metadata": {}
        },
        {
          "output_type": "display_data",
          "data": {
            "text/plain": [
              "Matrix([\n",
              "[1, 0,    4,    2],\n",
              "[0, 1, -7/2, -1/2]])"
            ],
            "text/latex": "$\\displaystyle \\left[\\begin{matrix}1 & 0 & 4 & 2\\\\0 & 1 & - \\frac{7}{2} & - \\frac{1}{2}\\end{matrix}\\right]$"
          },
          "metadata": {}
        },
        {
          "output_type": "stream",
          "name": "stdout",
          "text": [
            " dimension of  row space= 2\n"
          ]
        },
        {
          "output_type": "display_data",
          "data": {
            "text/plain": [
              "'Basis of column space are independent column of A i.e '"
            ],
            "application/vnd.google.colaboratory.intrinsic+json": {
              "type": "string"
            }
          },
          "metadata": {}
        },
        {
          "output_type": "display_data",
          "data": {
            "text/plain": [
              "Matrix([\n",
              "[1, 2],\n",
              "[2, 2]])"
            ],
            "text/latex": "$\\displaystyle \\left[\\begin{matrix}1 & 2\\\\2 & 2\\end{matrix}\\right]$"
          },
          "metadata": {}
        },
        {
          "output_type": "stream",
          "name": "stdout",
          "text": [
            " dimension of column space= 2\n",
            "Basis of ther nullspace contains:\n",
            "⎡⎡-4 ⎤  ⎡-2 ⎤⎤\n",
            "⎢⎢   ⎥  ⎢   ⎥⎥\n",
            "⎢⎢7/2⎥  ⎢1/2⎥⎥\n",
            "⎢⎢   ⎥, ⎢   ⎥⎥\n",
            "⎢⎢ 1 ⎥  ⎢ 0 ⎥⎥\n",
            "⎢⎢   ⎥  ⎢   ⎥⎥\n",
            "⎣⎣ 0 ⎦  ⎣ 1 ⎦⎦\n"
          ]
        }
      ]
    },
    {
      "cell_type": "markdown",
      "source": [
        "$$\n",
        "3) A=\\left[\\begin{array}{rrrr}\n",
        "0 & 5 & 3 & 0 \\\\\n",
        "0 & 0 & 0 & 2 \\\\\n",
        "0 & 10 & 15 & 0\n",
        "\\end{array}\\right]\n",
        "$$"
      ],
      "metadata": {
        "id": "IQw1lBFh2yGR"
      }
    },
    {
      "cell_type": "code",
      "source": [
        "from sympy import *\n",
        "A=Matrix([[0,5,3,0],[0,0,0,2],[0,10,15,0]])\n",
        "display(\"given matrix\",A)\n",
        "#[m,n]=shape(A)\n",
        "#c=A.T\n",
        "[B,pivots]=A.rref()\n",
        "display(\"Row reduced echelon from \",B , pivots)\n",
        "r=A.rank()\n",
        "display(\"Basis of row space are row of \" , B[0:r, :])\n",
        "print(\" dimension of  row space=\",r)\n",
        "display(\"Basis of column space are independent column of A i.e \" , A[:, pivots])\n",
        "print(\" dimension of column space=\",r)\n",
        "Nullspace=A.nullspace()\n",
        "#N=len(Nullspace)\n",
        "print(\"Basis of ther nullspace contains:\")\n",
        "pprint(Nullspace)\n"
      ],
      "metadata": {
        "colab": {
          "base_uri": "https://localhost:8080/",
          "height": 536
        },
        "id": "2nTN-7nC3gq5",
        "outputId": "1a48a661-bc3a-47ef-db84-509ee4f891df"
      },
      "execution_count": null,
      "outputs": [
        {
          "output_type": "display_data",
          "data": {
            "text/plain": [
              "'given matrix'"
            ],
            "application/vnd.google.colaboratory.intrinsic+json": {
              "type": "string"
            }
          },
          "metadata": {}
        },
        {
          "output_type": "display_data",
          "data": {
            "text/plain": [
              "Matrix([\n",
              "[0,  5,  3, 0],\n",
              "[0,  0,  0, 2],\n",
              "[0, 10, 15, 0]])"
            ],
            "text/latex": "$\\displaystyle \\left[\\begin{matrix}0 & 5 & 3 & 0\\\\0 & 0 & 0 & 2\\\\0 & 10 & 15 & 0\\end{matrix}\\right]$"
          },
          "metadata": {}
        },
        {
          "output_type": "display_data",
          "data": {
            "text/plain": [
              "'Row reduced echelon from '"
            ],
            "application/vnd.google.colaboratory.intrinsic+json": {
              "type": "string"
            }
          },
          "metadata": {}
        },
        {
          "output_type": "display_data",
          "data": {
            "text/plain": [
              "Matrix([\n",
              "[0, 1, 0, 0],\n",
              "[0, 0, 1, 0],\n",
              "[0, 0, 0, 1]])"
            ],
            "text/latex": "$\\displaystyle \\left[\\begin{matrix}0 & 1 & 0 & 0\\\\0 & 0 & 1 & 0\\\\0 & 0 & 0 & 1\\end{matrix}\\right]$"
          },
          "metadata": {}
        },
        {
          "output_type": "display_data",
          "data": {
            "text/plain": [
              "(1, 2, 3)"
            ]
          },
          "metadata": {}
        },
        {
          "output_type": "display_data",
          "data": {
            "text/plain": [
              "'Basis of row space are row of '"
            ],
            "application/vnd.google.colaboratory.intrinsic+json": {
              "type": "string"
            }
          },
          "metadata": {}
        },
        {
          "output_type": "display_data",
          "data": {
            "text/plain": [
              "Matrix([\n",
              "[0, 1, 0, 0],\n",
              "[0, 0, 1, 0],\n",
              "[0, 0, 0, 1]])"
            ],
            "text/latex": "$\\displaystyle \\left[\\begin{matrix}0 & 1 & 0 & 0\\\\0 & 0 & 1 & 0\\\\0 & 0 & 0 & 1\\end{matrix}\\right]$"
          },
          "metadata": {}
        },
        {
          "output_type": "stream",
          "name": "stdout",
          "text": [
            " dimension of  row space= 3\n"
          ]
        },
        {
          "output_type": "display_data",
          "data": {
            "text/plain": [
              "'Basis of column space are independent column of A i.e '"
            ],
            "application/vnd.google.colaboratory.intrinsic+json": {
              "type": "string"
            }
          },
          "metadata": {}
        },
        {
          "output_type": "display_data",
          "data": {
            "text/plain": [
              "Matrix([\n",
              "[ 5,  3, 0],\n",
              "[ 0,  0, 2],\n",
              "[10, 15, 0]])"
            ],
            "text/latex": "$\\displaystyle \\left[\\begin{matrix}5 & 3 & 0\\\\0 & 0 & 2\\\\10 & 15 & 0\\end{matrix}\\right]$"
          },
          "metadata": {}
        },
        {
          "output_type": "stream",
          "name": "stdout",
          "text": [
            " dimension of column space= 3\n",
            "Basis of ther nullspace contains:\n",
            "⎡⎡1⎤⎤\n",
            "⎢⎢ ⎥⎥\n",
            "⎢⎢0⎥⎥\n",
            "⎢⎢ ⎥⎥\n",
            "⎢⎢0⎥⎥\n",
            "⎢⎢ ⎥⎥\n",
            "⎣⎣0⎦⎦\n"
          ]
        }
      ]
    },
    {
      "cell_type": "markdown",
      "source": [
        "##Rank-Nullity Theorem"
      ],
      "metadata": {
        "id": "saQdqFoj3wZJ"
      }
    },
    {
      "cell_type": "markdown",
      "source": [
        "##Verify the Rank-Nullity theorem for the following"
      ],
      "metadata": {
        "id": "dVIYCyhM5WUA"
      }
    },
    {
      "cell_type": "markdown",
      "source": [
        "$$\n",
        "1) A=\\left[\\begin{array}{rrrr}\n",
        "1 & 2 & 3 & 1 \\\\\n",
        "4 & 8 & 12 & 4 \\\\\n",
        "3 & 6 & 9 & 3\n",
        "\\end{array}\\right]\n",
        "$$"
      ],
      "metadata": {
        "id": "HDGETpB36qh4"
      }
    },
    {
      "cell_type": "code",
      "source": [
        "from sympy import *\n",
        "A=Matrix([[1,2,3,1],[4,8,12,4],[3,6,9,3]])\n",
        "display(\"given matrix\",A)\n",
        "[m,n]=shape(A)\n",
        "#c=A.T\n",
        "Rank=A.rank()\n",
        "print(\"Rank of the linear transformation=\",Rank)\n",
        "Nullspace=A.nullspace()\n",
        "nullity=len(Nullspace)\n",
        "print(\"nullity of the linear transformation=\",nullity)\n",
        "if Rank + nullity == n:\n",
        "  print(\"Rank-nullity theorem holds\")\n",
        "else:\n",
        "  print(\"Rank-nullity theorem does not holds\")\n"
      ],
      "metadata": {
        "colab": {
          "base_uri": "https://localhost:8080/",
          "height": 151
        },
        "id": "kVd0BCSy4lPo",
        "outputId": "eed9a231-20e7-474d-b382-2a2c97f40722"
      },
      "execution_count": null,
      "outputs": [
        {
          "output_type": "display_data",
          "data": {
            "text/plain": [
              "'given matrix'"
            ],
            "application/vnd.google.colaboratory.intrinsic+json": {
              "type": "string"
            }
          },
          "metadata": {}
        },
        {
          "output_type": "display_data",
          "data": {
            "text/plain": [
              "Matrix([\n",
              "[1, 2,  3, 1],\n",
              "[4, 8, 12, 4],\n",
              "[3, 6,  9, 3]])"
            ],
            "text/latex": "$\\displaystyle \\left[\\begin{matrix}1 & 2 & 3 & 1\\\\4 & 8 & 12 & 4\\\\3 & 6 & 9 & 3\\end{matrix}\\right]$"
          },
          "metadata": {}
        },
        {
          "output_type": "stream",
          "name": "stdout",
          "text": [
            "Rank of the linear transformation= 1\n",
            "nullity of the linear transformation= 3\n",
            "Rank-nullity theorem holds\n"
          ]
        }
      ]
    },
    {
      "cell_type": "markdown",
      "source": [
        "$$\n",
        "2) A=\\left[\\begin{array}{rrrr}\n",
        "1 & 2  \\\\\n",
        "2 & 1 \\\\\n",
        "\\end{array}\\right]\n",
        "$$"
      ],
      "metadata": {
        "id": "j8PV0lDn9TgQ"
      }
    },
    {
      "cell_type": "code",
      "source": [
        "from sympy import *\n",
        "A=Matrix([[1,2],[2,1]])\n",
        "display(\"given matrix\",A)\n",
        "[m,n]=shape(A)\n",
        "#c=A.T\n",
        "Rank=A.rank()\n",
        "print(\"Rank of the linear transformation=\",Rank)\n",
        "Nullspace=A.nullspace()\n",
        "nullity=len(Nullspace)\n",
        "print(\"nullity of the linear transformation=\",nullity)\n",
        "if Rank + nullity == n:\n",
        "  print(\"Rank-nullity theorem holds\")\n",
        "else:\n",
        "  print(\"Rank-nullity theorem does not hold\")\n"
      ],
      "metadata": {
        "colab": {
          "base_uri": "https://localhost:8080/",
          "height": 131
        },
        "id": "j8PDpxHu9Kzw",
        "outputId": "759fddeb-8f0c-4c04-d774-5208945155b1"
      },
      "execution_count": null,
      "outputs": [
        {
          "output_type": "display_data",
          "data": {
            "text/plain": [
              "'given matrix'"
            ],
            "application/vnd.google.colaboratory.intrinsic+json": {
              "type": "string"
            }
          },
          "metadata": {}
        },
        {
          "output_type": "display_data",
          "data": {
            "text/plain": [
              "Matrix([\n",
              "[1, 2],\n",
              "[2, 1]])"
            ],
            "text/latex": "$\\displaystyle \\left[\\begin{matrix}1 & 2\\\\2 & 1\\end{matrix}\\right]$"
          },
          "metadata": {}
        },
        {
          "output_type": "stream",
          "name": "stdout",
          "text": [
            "Rank of the linear transformation= 2\n",
            "nullity of the linear transformation= 0\n",
            "Rank-nullity theorem holds\n"
          ]
        }
      ]
    },
    {
      "cell_type": "markdown",
      "source": [
        "$$\n",
        "3) A=\\left[\\begin{array}{rrrr}\n",
        "0 & 1  \\\\\n",
        "1 & 0\n",
        "\\end{array}\\right]\n",
        "$$"
      ],
      "metadata": {
        "id": "Ws6THrvr9Zao"
      }
    },
    {
      "cell_type": "code",
      "source": [
        "from sympy import *\n",
        "A=Matrix([[0,1],[1,0]])\n",
        "display(\"given matrix\",A)\n",
        "[m,n]=shape(A)\n",
        "#c=A.T\n",
        "Rank=A.rank()\n",
        "print(\"Rank of the linear transformation=\",Rank)\n",
        "Nullspace=A.nullspace()\n",
        "nullity=len(Nullspace)\n",
        "print(\"nullity of the linear transformation=\",nullity)\n",
        "if Rank + nullity == n:\n",
        "  print(\"Rank-nullity theorem holds\")\n",
        "else:\n",
        "  print(\"Rank-nullity theorem does not hold\")\n"
      ],
      "metadata": {
        "colab": {
          "base_uri": "https://localhost:8080/",
          "height": 131
        },
        "id": "a5qaSMLL9aTv",
        "outputId": "90e9d4eb-a103-4e28-d546-1f637d81a2a8"
      },
      "execution_count": null,
      "outputs": [
        {
          "output_type": "display_data",
          "data": {
            "text/plain": [
              "'given matrix'"
            ],
            "application/vnd.google.colaboratory.intrinsic+json": {
              "type": "string"
            }
          },
          "metadata": {}
        },
        {
          "output_type": "display_data",
          "data": {
            "text/plain": [
              "Matrix([\n",
              "[0, 1],\n",
              "[1, 0]])"
            ],
            "text/latex": "$\\displaystyle \\left[\\begin{matrix}0 & 1\\\\1 & 0\\end{matrix}\\right]$"
          },
          "metadata": {}
        },
        {
          "output_type": "stream",
          "name": "stdout",
          "text": [
            "Rank of the linear transformation= 2\n",
            "nullity of the linear transformation= 0\n",
            "Rank-nullity theorem holds\n"
          ]
        }
      ]
    },
    {
      "cell_type": "markdown",
      "source": [
        "$$\n",
        "4) T\\left[\\begin{array}{r}x\\\\y\\\\z\\end{array}\\right]=\\left[\\begin{array}{rrrr}\n",
        "1 & 2 & 3 \\\\\n",
        "3 & 2 & 1 \\\\\n",
        "1 & 1 & 1\n",
        "\\end{array}\\right]\\left[\\begin{array}{r}x\\\\y\\\\z\\end{array}\\right]\n",
        "$$"
      ],
      "metadata": {
        "id": "Ra209LDQ9ahH"
      }
    },
    {
      "cell_type": "code",
      "source": [
        "from sympy import *\n",
        "A=Matrix([[1,2,3],[3,2,1],[1,1,1]])\n",
        "display(\"given matrix\",A)\n",
        "[m,n]=shape(A)\n",
        "#c=A.T\n",
        "Rank=A.rank()\n",
        "print(\"Rank of the linear transformation=\",Rank)\n",
        "Nullspace=A.nullspace()\n",
        "nullity=len(Nullspace)\n",
        "print(\"nullity of the linear transformation=\",nullity)\n",
        "if Rank + nullity == n:\n",
        "  print(\"Rank-nullity theorem holds\")\n",
        "else:\n",
        "  print(\"Rank-nullity theorem does not hold\")\n"
      ],
      "metadata": {
        "colab": {
          "base_uri": "https://localhost:8080/",
          "height": 151
        },
        "id": "RLtdPZau9bI3",
        "outputId": "3c63c38c-edec-43fb-cb80-239d07f464a2"
      },
      "execution_count": null,
      "outputs": [
        {
          "output_type": "display_data",
          "data": {
            "text/plain": [
              "'given matrix'"
            ],
            "application/vnd.google.colaboratory.intrinsic+json": {
              "type": "string"
            }
          },
          "metadata": {}
        },
        {
          "output_type": "display_data",
          "data": {
            "text/plain": [
              "Matrix([\n",
              "[1, 2, 3],\n",
              "[3, 2, 1],\n",
              "[1, 1, 1]])"
            ],
            "text/latex": "$\\displaystyle \\left[\\begin{matrix}1 & 2 & 3\\\\3 & 2 & 1\\\\1 & 1 & 1\\end{matrix}\\right]$"
          },
          "metadata": {}
        },
        {
          "output_type": "stream",
          "name": "stdout",
          "text": [
            "Rank of the linear transformation= 2\n",
            "nullity of the linear transformation= 1\n",
            "Rank-nullity theorem holds\n"
          ]
        }
      ]
    },
    {
      "cell_type": "markdown",
      "source": [
        "$$\n",
        "4) T\\left[\\begin{array}{r}x\\\\y\\\\z\\end{array}\\right]=\\left[\\begin{array}{rrrr}\n",
        "2 & -3 & 4 \\\\\n",
        "6 & -9 & 12 \\\\\n",
        "4 & -6 & 8\n",
        "\\end{array}\\right]\\left[\\begin{array}{r}x\\\\y\\\\z\\end{array}\\right]\n",
        "$$"
      ],
      "metadata": {
        "id": "eDCr0z5F9b0n"
      }
    },
    {
      "cell_type": "code",
      "source": [
        "from sympy import *\n",
        "A=Matrix([[2,-3,4],[6,-9,12],[4,-6,8]])\n",
        "display(\"given matrix\",A)\n",
        "[m,n]=shape(A)\n",
        "#c=A.T\n",
        "Rank=A.rank()\n",
        "print(\"Rank of the linear transformation=\",Rank)\n",
        "Nullspace=A.nullspace()\n",
        "nullity=len(Nullspace)\n",
        "print(\"nullity of the linear transformation=\",nullity)\n",
        "if Rank + nullity == n:\n",
        "  print(\"Rank-nullity theorem holds\")\n",
        "else:\n",
        "  print(\"Rank-nullity theorem does not hold\")\n"
      ],
      "metadata": {
        "colab": {
          "base_uri": "https://localhost:8080/",
          "height": 148
        },
        "id": "BwrJoJ2E9cv4",
        "outputId": "54c88e15-47d5-4bae-dd7d-3e65cf9d9001"
      },
      "execution_count": null,
      "outputs": [
        {
          "output_type": "display_data",
          "data": {
            "text/plain": [
              "'given matrix'"
            ],
            "application/vnd.google.colaboratory.intrinsic+json": {
              "type": "string"
            }
          },
          "metadata": {}
        },
        {
          "output_type": "display_data",
          "data": {
            "text/plain": [
              "Matrix([\n",
              "[2, -3,  4],\n",
              "[6, -9, 12],\n",
              "[4, -6,  8]])"
            ],
            "text/latex": "$\\displaystyle \\left[\\begin{matrix}2 & -3 & 4\\\\6 & -9 & 12\\\\4 & -6 & 8\\end{matrix}\\right]$"
          },
          "metadata": {}
        },
        {
          "output_type": "stream",
          "name": "stdout",
          "text": [
            "Rank of the linear transformation= 1\n",
            "nullity of the linear transformation= 2\n",
            "Rank-nullity theorem holds\n"
          ]
        }
      ]
    }
  ]
}